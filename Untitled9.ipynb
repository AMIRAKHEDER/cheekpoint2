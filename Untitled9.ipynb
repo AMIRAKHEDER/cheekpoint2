{
 "cells": [
  {
   "cell_type": "code",
   "execution_count": null,
   "id": "3da97227",
   "metadata": {},
   "outputs": [],
   "source": [
    "def multiply_list(items):\n",
    "    tot = 1\n",
    "    for x in items:\n",
    "        tot *= x\n",
    "    return tot\n",
    "print(multiply_list([1,2,-8]))"
   ]
  },
  {
   "cell_type": "code",
   "execution_count": null,
   "id": "5130a948",
   "metadata": {},
   "outputs": [],
   "source": [
    "ef last(n): return n[-1]\n",
    "\n",
    "def sort_list_last(tuples):\n",
    "  return sorted(tuples, key=last)\n",
    "\n",
    "print(sort_list_last([(2, 5), (1, 2), (4, 4), (2, 3), (2, 1)]))\n"
   ]
  },
  {
   "cell_type": "code",
   "execution_count": null,
   "id": "7a06f47d",
   "metadata": {},
   "outputs": [],
   "source": [
    "from collection import conter\n",
    "d1={'a':100,'b':200,'c':300}\n",
    "d2={'a':300,'b':200,'c':100}\n",
    "d=conter(d1)+conter(d2)\n",
    "print(d)"
   ]
  },
  {
   "cell_type": "code",
   "execution_count": null,
   "id": "6c53ec2f",
   "metadata": {},
   "outputs": [],
   "source": [
    "number =int(input(\"type a number:\"))\n",
    "\n",
    "numberdirect={}\n",
    "for i in range (1,+number+1):\n",
    "    numberdict [i]\n",
    "    \n",
    "print (nuberdirect)\n",
    "      \n",
    "      \n",
    "      \n"
   ]
  },
  {
   "cell_type": "code",
   "execution_count": null,
   "id": "cec66452",
   "metadata": {},
   "outputs": [],
   "source": [
    "price=[('item1','12.20') ,('item2','15.10'),('item3','24.5')]\n",
    "print (storted(price ,key=lamada x: float(x[1]),reserve =true))\n"
   ]
  }
 ],
 "metadata": {
  "kernelspec": {
   "display_name": "Python 3",
   "language": "python",
   "name": "python3"
  },
  "language_info": {
   "codemirror_mode": {
    "name": "ipython",
    "version": 3
   },
   "file_extension": ".py",
   "mimetype": "text/x-python",
   "name": "python",
   "nbconvert_exporter": "python",
   "pygments_lexer": "ipython3",
   "version": "3.8.8"
  }
 },
 "nbformat": 4,
 "nbformat_minor": 5
}
